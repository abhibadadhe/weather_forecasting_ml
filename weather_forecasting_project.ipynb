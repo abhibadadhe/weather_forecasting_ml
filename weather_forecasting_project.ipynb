{
 "cells": [
  {
   "cell_type": "markdown",
   "id": "4a447ad0",
   "metadata": {},
   "source": [
    "# 🌦️ Weather Forecasting using Machine Learning\n",
    "Predict next day's temperature using regression-based machine learning models.\n",
    "\n",
    "**Dataset:** Synthetic historical weather data\n",
    "**Tools:** Python, Pandas, Scikit-learn, Matplotlib"
   ]
  },
  {
   "cell_type": "code",
   "execution_count": null,
   "id": "0eece7d4",
   "metadata": {},
   "outputs": [],
   "source": [
    "import pandas as pd\n",
    "import numpy as np\n",
    "import matplotlib.pyplot as plt\n",
    "import seaborn as sns\n",
    "from sklearn.model_selection import train_test_split, GridSearchCV\n",
    "from sklearn.linear_model import LinearRegression\n",
    "from sklearn.ensemble import RandomForestRegressor\n",
    "from sklearn.metrics import mean_absolute_error, r2_score"
   ]
  },
  {
   "cell_type": "code",
   "execution_count": null,
   "id": "74a5de71",
   "metadata": {},
   "outputs": [],
   "source": [
    "df = pd.read_csv('weather_forecasting_sample.csv')\n",
    "df.head()"
   ]
  },
  {
   "cell_type": "code",
   "execution_count": null,
   "id": "377ff8fb",
   "metadata": {},
   "outputs": [],
   "source": [
    "df.describe()"
   ]
  },
  {
   "cell_type": "code",
   "execution_count": null,
   "id": "9e0e1be4",
   "metadata": {},
   "outputs": [],
   "source": [
    "plt.figure(figsize=(8, 6))\n",
    "sns.heatmap(df.corr(), annot=True, cmap='coolwarm')\n",
    "plt.title('Feature Correlation Heatmap')\n",
    "plt.show()"
   ]
  },
  {
   "cell_type": "code",
   "execution_count": null,
   "id": "b3312af4",
   "metadata": {},
   "outputs": [],
   "source": [
    "X = df.drop(columns=['Next Day Temp'])\n",
    "y = df['Next Day Temp']\n",
    "\n",
    "X_train, X_test, y_train, y_test = train_test_split(X, y, test_size=0.2, random_state=42)"
   ]
  },
  {
   "cell_type": "code",
   "execution_count": null,
   "id": "2fb7e3a5",
   "metadata": {},
   "outputs": [],
   "source": [
    "lr = LinearRegression()\n",
    "lr.fit(X_train, y_train)\n",
    "lr_preds = lr.predict(X_test)\n",
    "\n",
    "print('Linear Regression MAE:', mean_absolute_error(y_test, lr_preds))\n",
    "print('Linear Regression R2:', r2_score(y_test, lr_preds))"
   ]
  },
  {
   "cell_type": "code",
   "execution_count": null,
   "id": "6920b578",
   "metadata": {},
   "outputs": [],
   "source": [
    "param_grid = {'n_estimators': [50, 100], 'max_depth': [3, 5, None]}\n",
    "rf = GridSearchCV(RandomForestRegressor(random_state=42), param_grid, cv=3)\n",
    "rf.fit(X_train, y_train)\n",
    "rf_preds = rf.predict(X_test)\n",
    "\n",
    "print('Random Forest MAE:', mean_absolute_error(y_test, rf_preds))\n",
    "print('Random Forest R2:', r2_score(y_test, rf_preds))\n",
    "print('Best Params:', rf.best_params_)"
   ]
  },
  {
   "cell_type": "code",
   "execution_count": null,
   "id": "c3b52019",
   "metadata": {},
   "outputs": [],
   "source": [
    "plt.figure(figsize=(8, 5))\n",
    "plt.plot(y_test.values, label='Actual', marker='o')\n",
    "plt.plot(rf_preds, label='Predicted', marker='x')\n",
    "plt.title('Random Forest Predictions vs Actual')\n",
    "plt.xlabel('Sample Index')\n",
    "plt.ylabel('Next Day Temperature')\n",
    "plt.legend()\n",
    "plt.tight_layout()\n",
    "plt.show()"
   ]
  }
 ],
 "metadata": {},
 "nbformat": 4,
 "nbformat_minor": 5
}